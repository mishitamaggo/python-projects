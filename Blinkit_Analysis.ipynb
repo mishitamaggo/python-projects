{
  "nbformat": 4,
  "nbformat_minor": 0,
  "metadata": {
    "colab": {
      "provenance": [],
      "authorship_tag": "ABX9TyOzAdaS83f5FNrT137AMd9N",
      "include_colab_link": true
    },
    "kernelspec": {
      "name": "python3",
      "display_name": "Python 3"
    },
    "language_info": {
      "name": "python"
    }
  },
  "cells": [
    {
      "cell_type": "markdown",
      "metadata": {
        "id": "view-in-github",
        "colab_type": "text"
      },
      "source": [
        "<a href=\"https://colab.research.google.com/github/mishitamaggo/python-projects/blob/main/Blinkit_Analysis.ipynb\" target=\"_parent\"><img src=\"https://colab.research.google.com/assets/colab-badge.svg\" alt=\"Open In Colab\"/></a>"
      ]
    },
    {
      "cell_type": "markdown",
      "source": [
        "**Import Libraries**"
      ],
      "metadata": {
        "id": "clry9qS0oA8a"
      }
    },
    {
      "cell_type": "code",
      "source": [
        "import pandas as pd\n",
        "import numpy as np\n",
        "import matplotlib.pyplot as plt\n",
        "import seaborn as sns"
      ],
      "metadata": {
        "id": "PckAjhBVlbKC"
      },
      "execution_count": 1,
      "outputs": []
    },
    {
      "cell_type": "markdown",
      "source": [
        "**Import Raw Data**"
      ],
      "metadata": {
        "id": "IPM45jk4oF1s"
      }
    },
    {
      "cell_type": "code",
      "source": [
        "data = pd.read_csv(\"/content/blinkit_data.csv\")\n",
        "print (data)"
      ],
      "metadata": {
        "colab": {
          "base_uri": "https://localhost:8080/"
        },
        "id": "qig4cwTalvYp",
        "outputId": "d9ffb7d3-0e14-4009-e1ee-9e1ca5dbe03c"
      },
      "execution_count": 5,
      "outputs": [
        {
          "output_type": "stream",
          "name": "stdout",
          "text": [
            "     Item Fat Content Item Identifier              Item Type  \\\n",
            "0             Regular           FDX32  Fruits and Vegetables   \n",
            "1             Low Fat           NCB42     Health and Hygiene   \n",
            "2             Regular           FDR28           Frozen Foods   \n",
            "3             Regular           FDL50                 Canned   \n",
            "4             Low Fat           DRI25            Soft Drinks   \n",
            "...               ...             ...                    ...   \n",
            "8518          low fat           NCT53     Health and Hygiene   \n",
            "8519          low fat           FDN09            Snack Foods   \n",
            "8520          low fat           DRE13            Soft Drinks   \n",
            "8521              reg           FDT50                  Dairy   \n",
            "8522              reg           FDM58            Snack Foods   \n",
            "\n",
            "      Outlet Establishment Year Outlet Identifier Outlet Location Type  \\\n",
            "0                          2012            OUT049               Tier 1   \n",
            "1                          2022            OUT018               Tier 3   \n",
            "2                          2010            OUT046               Tier 1   \n",
            "3                          2000            OUT013               Tier 3   \n",
            "4                          2015            OUT045               Tier 2   \n",
            "...                         ...               ...                  ...   \n",
            "8518                       1998            OUT027               Tier 3   \n",
            "8519                       1998            OUT027               Tier 3   \n",
            "8520                       1998            OUT027               Tier 3   \n",
            "8521                       1998            OUT027               Tier 3   \n",
            "8522                       1998            OUT027               Tier 3   \n",
            "\n",
            "     Outlet Size        Outlet Type  Item Visibility  Item Weight     Sales  \\\n",
            "0         Medium  Supermarket Type1         0.100014        15.10  145.4786   \n",
            "1         Medium  Supermarket Type2         0.008596        11.80  115.3492   \n",
            "2          Small  Supermarket Type1         0.025896        13.85  165.0210   \n",
            "3           High  Supermarket Type1         0.042278        12.15  126.5046   \n",
            "4          Small  Supermarket Type1         0.033970        19.60   55.1614   \n",
            "...          ...                ...              ...          ...       ...   \n",
            "8518      Medium  Supermarket Type3         0.000000          NaN  164.5526   \n",
            "8519      Medium  Supermarket Type3         0.034706          NaN  241.6828   \n",
            "8520      Medium  Supermarket Type3         0.027571          NaN   86.6198   \n",
            "8521      Medium  Supermarket Type3         0.107715          NaN   97.8752   \n",
            "8522      Medium  Supermarket Type3         0.000000          NaN  112.2544   \n",
            "\n",
            "      Rating  \n",
            "0        5.0  \n",
            "1        5.0  \n",
            "2        5.0  \n",
            "3        5.0  \n",
            "4        5.0  \n",
            "...      ...  \n",
            "8518     4.0  \n",
            "8519     4.0  \n",
            "8520     4.0  \n",
            "8521     4.0  \n",
            "8522     4.0  \n",
            "\n",
            "[8523 rows x 12 columns]\n"
          ]
        }
      ]
    },
    {
      "cell_type": "markdown",
      "source": [
        "**Top 20 & Size of the Data**"
      ],
      "metadata": {
        "id": "JiIFGlv_oJQt"
      }
    },
    {
      "cell_type": "code",
      "source": [
        "print (data .head(20))\n",
        "print (data.shape)"
      ],
      "metadata": {
        "colab": {
          "base_uri": "https://localhost:8080/"
        },
        "id": "qbEZ7V07moaZ",
        "outputId": "eb3628ca-5ed9-466e-a048-9e3056cddc46"
      },
      "execution_count": 10,
      "outputs": [
        {
          "output_type": "stream",
          "name": "stdout",
          "text": [
            "   Item Fat Content Item Identifier              Item Type  \\\n",
            "0           Regular           FDX32  Fruits and Vegetables   \n",
            "1           Low Fat           NCB42     Health and Hygiene   \n",
            "2           Regular           FDR28           Frozen Foods   \n",
            "3           Regular           FDL50                 Canned   \n",
            "4           Low Fat           DRI25            Soft Drinks   \n",
            "5           low fat           FDS52           Frozen Foods   \n",
            "6           Low Fat           NCU05     Health and Hygiene   \n",
            "7           Low Fat           NCD30              Household   \n",
            "8           Low Fat           FDW20  Fruits and Vegetables   \n",
            "9           Low Fat           FDX25                 Canned   \n",
            "10               LF           FDX21            Snack Foods   \n",
            "11          Low Fat           NCU41     Health and Hygiene   \n",
            "12          Low Fat           FDL20  Fruits and Vegetables   \n",
            "13          Low Fat           NCR54              Household   \n",
            "14          Low Fat           FDH19                   Meat   \n",
            "15          Regular           FDB57  Fruits and Vegetables   \n",
            "16          Low Fat           FDO23                 Breads   \n",
            "17          Low Fat           NCB07              Household   \n",
            "18          Low Fat           FDJ56  Fruits and Vegetables   \n",
            "19          Low Fat           DRN47            Hard Drinks   \n",
            "\n",
            "    Outlet Establishment Year Outlet Identifier Outlet Location Type  \\\n",
            "0                        2012            OUT049               Tier 1   \n",
            "1                        2022            OUT018               Tier 3   \n",
            "2                        2010            OUT046               Tier 1   \n",
            "3                        2000            OUT013               Tier 3   \n",
            "4                        2015            OUT045               Tier 2   \n",
            "5                        2020            OUT017               Tier 2   \n",
            "6                        2011            OUT010               Tier 3   \n",
            "7                        2015            OUT045               Tier 2   \n",
            "8                        2000            OUT013               Tier 3   \n",
            "9                        1998            OUT027               Tier 3   \n",
            "10                       1998            OUT027               Tier 3   \n",
            "11                       2017            OUT035               Tier 2   \n",
            "12                       2022            OUT018               Tier 3   \n",
            "13                       2000            OUT013               Tier 3   \n",
            "14                       1998            OUT027               Tier 3   \n",
            "15                       2017            OUT035               Tier 2   \n",
            "16                       2022            OUT018               Tier 3   \n",
            "17                       2012            OUT049               Tier 1   \n",
            "18                       1998            OUT027               Tier 3   \n",
            "19                       2022            OUT018               Tier 3   \n",
            "\n",
            "   Outlet Size        Outlet Type  Item Visibility  Item Weight     Sales  \\\n",
            "0       Medium  Supermarket Type1         0.100014        15.10  145.4786   \n",
            "1       Medium  Supermarket Type2         0.008596        11.80  115.3492   \n",
            "2        Small  Supermarket Type1         0.025896        13.85  165.0210   \n",
            "3         High  Supermarket Type1         0.042278        12.15  126.5046   \n",
            "4        Small  Supermarket Type1         0.033970        19.60   55.1614   \n",
            "5        Small  Supermarket Type1         0.005505         8.89  102.4016   \n",
            "6        Small      Grocery Store         0.098312        11.80   81.4618   \n",
            "7        Small  Supermarket Type1         0.026904        19.70   96.0726   \n",
            "8         High  Supermarket Type1         0.024129        20.75  124.1730   \n",
            "9       Medium  Supermarket Type3         0.101562          NaN  181.9292   \n",
            "10      Medium  Supermarket Type3         0.084555          NaN  109.8912   \n",
            "11       Small  Supermarket Type1         0.052045        18.85  192.1846   \n",
            "12      Medium  Supermarket Type2         0.128938        17.10  112.3886   \n",
            "13        High  Supermarket Type1         0.090487        16.35  195.2110   \n",
            "14      Medium  Supermarket Type3         0.032928          NaN  173.1738   \n",
            "15       Small  Supermarket Type1         0.018802        20.25  222.1772   \n",
            "16      Medium  Supermarket Type2         0.147024        17.85   93.7436   \n",
            "17      Medium  Supermarket Type1         0.077628        19.20  197.6110   \n",
            "18      Medium  Supermarket Type3         0.182515          NaN   98.7700   \n",
            "19      Medium  Supermarket Type2         0.016895        12.10  178.5660   \n",
            "\n",
            "    Rating  \n",
            "0      5.0  \n",
            "1      5.0  \n",
            "2      5.0  \n",
            "3      5.0  \n",
            "4      5.0  \n",
            "5      5.0  \n",
            "6      5.0  \n",
            "7      5.0  \n",
            "8      5.0  \n",
            "9      5.0  \n",
            "10     5.0  \n",
            "11     5.0  \n",
            "12     5.0  \n",
            "13     5.0  \n",
            "14     5.0  \n",
            "15     5.0  \n",
            "16     5.0  \n",
            "17     5.0  \n",
            "18     5.0  \n",
            "19     5.0  \n",
            "(8523, 12)\n"
          ]
        }
      ]
    },
    {
      "cell_type": "markdown",
      "source": [
        "**Name of the Coloums**"
      ],
      "metadata": {
        "id": "OTYfEsYYoQ28"
      }
    },
    {
      "cell_type": "code",
      "source": [
        "print (data.columns)"
      ],
      "metadata": {
        "colab": {
          "base_uri": "https://localhost:8080/"
        },
        "id": "P9HPnHktoqUf",
        "outputId": "c5397d4e-d611-435f-8832-bb6b763e2949"
      },
      "execution_count": 13,
      "outputs": [
        {
          "output_type": "stream",
          "name": "stdout",
          "text": [
            "Index(['Item Fat Content', 'Item Identifier', 'Item Type',\n",
            "       'Outlet Establishment Year', 'Outlet Identifier',\n",
            "       'Outlet Location Type', 'Outlet Size', 'Outlet Type', 'Item Visibility',\n",
            "       'Item Weight', 'Sales', 'Rating'],\n",
            "      dtype='object')\n"
          ]
        }
      ]
    },
    {
      "cell_type": "markdown",
      "source": [
        "**Data Type**"
      ],
      "metadata": {
        "id": "3mEm-EJao4DC"
      }
    },
    {
      "cell_type": "code",
      "source": [
        "print (data.dtypes)"
      ],
      "metadata": {
        "colab": {
          "base_uri": "https://localhost:8080/"
        },
        "id": "VlbFf14Ro5-v",
        "outputId": "e32fffa4-7f9c-4806-d915-d24d8dee7860"
      },
      "execution_count": 14,
      "outputs": [
        {
          "output_type": "stream",
          "name": "stdout",
          "text": [
            "Item Fat Content              object\n",
            "Item Identifier               object\n",
            "Item Type                     object\n",
            "Outlet Establishment Year      int64\n",
            "Outlet Identifier             object\n",
            "Outlet Location Type          object\n",
            "Outlet Size                   object\n",
            "Outlet Type                   object\n",
            "Item Visibility              float64\n",
            "Item Weight                  float64\n",
            "Sales                        float64\n",
            "Rating                       float64\n",
            "dtype: object\n"
          ]
        }
      ]
    },
    {
      "cell_type": "code",
      "source": [
        "print(data['Item Fat Content'].unique())"
      ],
      "metadata": {
        "colab": {
          "base_uri": "https://localhost:8080/"
        },
        "id": "749G4AbgpRBB",
        "outputId": "0c6824eb-ce0b-49bc-ed3c-dce5eb15fba5"
      },
      "execution_count": 17,
      "outputs": [
        {
          "output_type": "stream",
          "name": "stdout",
          "text": [
            "['Regular' 'Low Fat' 'low fat' 'LF' 'reg']\n"
          ]
        }
      ]
    },
    {
      "cell_type": "markdown",
      "source": [
        "**DATA CLEANING & VALIDATION** *italicised text*"
      ],
      "metadata": {
        "id": "NrkZJ7K7puWC"
      }
    },
    {
      "cell_type": "code",
      "source": [
        "data['Item Fat Content'] = (data['Item Fat Content'].replace({'LF':'Low Fat','reg': 'Regular','low fat':'Low Fat'}))\n",
        "print (data['Item Fat Content'].unique())"
      ],
      "metadata": {
        "colab": {
          "base_uri": "https://localhost:8080/"
        },
        "id": "mi0q-OlDqChJ",
        "outputId": "e8cb7a55-4bd6-415a-c414-5b29fac9dd17"
      },
      "execution_count": 27,
      "outputs": [
        {
          "output_type": "stream",
          "name": "stdout",
          "text": [
            "['Regular' 'Low Fat']\n"
          ]
        }
      ]
    },
    {
      "cell_type": "markdown",
      "source": [
        "**Sales**"
      ],
      "metadata": {
        "id": "zQTpRxlpr2ug"
      }
    },
    {
      "cell_type": "code",
      "source": [
        "#Total Sales\n",
        "print (data['Sales'].sum())\n",
        "\n",
        "#Average Sale\n",
        "print (data['Sales'].mean())\n",
        "\n",
        "#Items Sold\n",
        "print (data['Sales'].count())\n",
        "\n",
        "#Avg Rating\n",
        "print (data['Rating'].mean())"
      ],
      "metadata": {
        "colab": {
          "base_uri": "https://localhost:8080/"
        },
        "id": "kVmRNr4ErrUf",
        "outputId": "c94df459-20af-4a55-c93d-45c8555acb0f"
      },
      "execution_count": 34,
      "outputs": [
        {
          "output_type": "stream",
          "name": "stdout",
          "text": [
            "1201681.4808\n",
            "140.9927819781767\n",
            "8523\n",
            "3.965857092573038\n"
          ]
        }
      ]
    },
    {
      "cell_type": "markdown",
      "source": [
        "CHART 1\n",
        "Sales by Fat Content\n",
        "\n",
        "```\n",
        "# This is formatted as code\n",
        "```\n",
        "\n"
      ],
      "metadata": {
        "id": "U8B7t9xLtj3F"
      }
    },
    {
      "cell_type": "code",
      "source": [
        "print(data.groupby('Item Fat Content')['Sales'].sum())\n",
        "print (plt.pie(data.groupby('Item Fat Content')['Sales'].sum(), labels = data['Item Fat Content'].unique()))"
      ],
      "metadata": {
        "colab": {
          "base_uri": "https://localhost:8080/",
          "height": 513
        },
        "id": "hGGCVnFct1eb",
        "outputId": "81ea6de8-d33d-40c6-dd84-c3bde7c9d3dd"
      },
      "execution_count": 38,
      "outputs": [
        {
          "output_type": "stream",
          "name": "stdout",
          "text": [
            "Item Fat Content\n",
            "Low Fat    776319.6784\n",
            "Regular    425361.8024\n",
            "Name: Sales, dtype: float64\n",
            "([<matplotlib.patches.Wedge object at 0x7ff4a4b08250>, <matplotlib.patches.Wedge object at 0x7ff4a3f0ff10>], [Text(-0.48712027526941815, 0.9862625600829865, 'Regular'), Text(0.48712012634790924, -0.9862626336360905, 'Low Fat')])\n"
          ]
        },
        {
          "output_type": "display_data",
          "data": {
            "text/plain": [
              "<Figure size 640x480 with 1 Axes>"
            ],
            "image/png": "[encoded data removed]"
          },
          "metadata": {}
        }
      ]
    },
    {
      "cell_type": "markdown",
      "source": [
        "CHART 2\n",
        "Sales by Fat Item Type"
      ],
      "metadata": {
        "id": "oxejqklIu-NM"
      }
    },
    {
      "cell_type": "code",
      "source": [
        "item_type_sales = data.groupby('Item Type')['Sales'].sum()\n",
        "plt.bar(item_type_sales.index, item_type_sales.values)\n",
        "\n",
        "plt.xticks(rotation=90)\n",
        "plt.xlabel('Item Type')\n",
        "plt.ylabel('Sales')\n",
        "plt.title('Sales by Item Type')\n",
        "plt.show()"
      ],
      "metadata": {
        "colab": {
          "base_uri": "https://localhost:8080/",
          "height": 607
        },
        "id": "XYN4guj-vCJc",
        "outputId": "727ef51e-b79b-4ef0-ae54-eaed296a15ed"
      },
      "execution_count": 42,
      "outputs": [
        {
          "output_type": "display_data",
          "data": {
            "text/plain": [
              "<Figure size 640x480 with 1 Axes>"
            ],
            "image/png": "[encoded data removed]"
          },
          "metadata": {}
        }
      ]
    },
    {
      "cell_type": "markdown",
      "source": [
        "**FAT CONTENT BY OUTLET FOR TOTAL SALE**"
      ],
      "metadata": {
        "id": "VAH_fnBm1Lic"
      }
    },
    {
      "cell_type": "code",
      "source": [
        "grouped = data.groupby(['Item Fat Content', 'Outlet Identifier'])['Sales'].sum().reset_index()\n",
        "pivot_table = grouped.pivot(index='Item Fat Content', columns='Outlet Identifier', values='Sales')\n",
        "print(pivot_table)"
      ],
      "metadata": {
        "colab": {
          "base_uri": "https://localhost:8080/"
        },
        "id": "wyr0UVk71Rog",
        "outputId": "7a7f6c71-c365-4390-c8f2-9bf60d8ec22b"
      },
      "execution_count": 43,
      "outputs": [
        {
          "output_type": "stream",
          "name": "stdout",
          "text": [
            "Outlet Identifier      OUT010      OUT013      OUT017      OUT018      OUT019  \\\n",
            "Item Fat Content                                                                \n",
            "Low Fat            51785.8296  86402.1448  82947.0458  84844.6070  48028.5354   \n",
            "Regular            26345.7350  45406.8708  46156.9106  46633.1654  25779.0470   \n",
            "\n",
            "Outlet Identifier      OUT027      OUT035      OUT045      OUT046      OUT049  \n",
            "Item Fat Content                                                               \n",
            "Low Fat            83774.4110  86482.9174  85034.8102  84603.3212  82416.0560  \n",
            "Regular            46940.2636  46620.9896  45907.9680  47510.0486  48060.8038  \n"
          ]
        }
      ]
    }
  ]
}