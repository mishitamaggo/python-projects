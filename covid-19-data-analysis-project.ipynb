{
  "nbformat": 4,
  "nbformat_minor": 0,
  "metadata": {
    "colab": {
      "provenance": [],
      "authorship_tag": "ABX9TyO2ggZj6XgqC2RBW5U0cI3L"
    },
    "kernelspec": {
      "name": "python3",
      "display_name": "Python 3"
    },
    "language_info": {
      "name": "python"
    }
  },
  "cells": [
    {
      "cell_type": "code",
      "source": [
        "import pandas as pd"
      ],
      "metadata": {
        "id": "FjdEZpYFOrZm"
      },
      "execution_count": null,
      "outputs": []
    },
    {
      "cell_type": "code",
      "source": [
        "data = pd.read_csv(\"/COVID-19.csv\")\n",
        "print (data)\n",
        "print (data.count())\n",
        "print (data.isnull())\n",
        "print (data.isnull().sum())"
      ],
      "metadata": {
        "colab": {
          "base_uri": "https://localhost:8080/"
        },
        "id": "lMfOBPkyOw2D",
        "outputId": "c460d8ab-5b1b-456e-b43b-e0c33246e997"
      },
      "execution_count": null,
      "outputs": [
        {
          "output_type": "stream",
          "name": "stdout",
          "text": [
            "          Date     State          Region  Confirmed  Deaths  Recovered\n",
            "0    4/29/2020       NaN     Afghanistan       1939      60        252\n",
            "1    4/29/2020       NaN         Albania        766      30        455\n",
            "2    4/29/2020       NaN         Algeria       3848     444       1702\n",
            "3    4/29/2020       NaN         Andorra        743      42        423\n",
            "4    4/29/2020       NaN          Angola         27       2          7\n",
            "..         ...       ...             ...        ...     ...        ...\n",
            "316  4/29/2020   Wyoming              US        545       7          0\n",
            "317  4/29/2020  Xinjiang  Mainland China         76       3         73\n",
            "318  4/29/2020     Yukon          Canada         11       0          0\n",
            "319  4/29/2020    Yunnan  Mainland China        185       2        181\n",
            "320  4/29/2020  Zhejiang  Mainland China       1268       1       1263\n",
            "\n",
            "[321 rows x 6 columns]\n",
            "Date         321\n",
            "State        140\n",
            "Region       321\n",
            "Confirmed    321\n",
            "Deaths       321\n",
            "Recovered    321\n",
            "dtype: int64\n",
            "      Date  State  Region  Confirmed  Deaths  Recovered\n",
            "0    False   True   False      False   False      False\n",
            "1    False   True   False      False   False      False\n",
            "2    False   True   False      False   False      False\n",
            "3    False   True   False      False   False      False\n",
            "4    False   True   False      False   False      False\n",
            "..     ...    ...     ...        ...     ...        ...\n",
            "316  False  False   False      False   False      False\n",
            "317  False  False   False      False   False      False\n",
            "318  False  False   False      False   False      False\n",
            "319  False  False   False      False   False      False\n",
            "320  False  False   False      False   False      False\n",
            "\n",
            "[321 rows x 6 columns]\n",
            "Date           0\n",
            "State        181\n",
            "Region         0\n",
            "Confirmed      0\n",
            "Deaths         0\n",
            "Recovered      0\n",
            "dtype: int64\n"
          ]
        }
      ]
    },
    {
      "cell_type": "code",
      "source": [
        "import seaborn as sns\n",
        "import matplotlib.pyplot as plt"
      ],
      "metadata": {
        "id": "W6xtoA7CQ7t5"
      },
      "execution_count": null,
      "outputs": []
    },
    {
      "cell_type": "code",
      "source": [
        "print (sns.heatmap(data.isnull()))\n",
        "print (plt.show())"
      ],
      "metadata": {
        "colab": {
          "base_uri": "https://localhost:8080/",
          "height": 471
        },
        "id": "aCA4HtzFRKpd",
        "outputId": "f77bdc6b-06e7-4513-dc68-1474a7c7822f"
      },
      "execution_count": null,
      "outputs": [
        {
          "output_type": "stream",
          "name": "stdout",
          "text": [
            "Axes(0.125,0.11;0.62x0.77)\n"
          ]
        },
        {
          "output_type": "display_data",
          "data": {
            "text/plain": [
              "<Figure size 640x480 with 2 Axes>"
            ],
            "image/png": "[encoded data removed]"
          },
          "metadata": {}
        },
        {
          "output_type": "stream",
          "name": "stdout",
          "text": [
            "None\n"
          ]
        }
      ]
    },
    {
      "cell_type": "markdown",
      "source": [
        "1. Show the number of confirmed, Deaths, and Recovered cases in each region."
      ],
      "metadata": {
        "id": "C5oPL2VWR-fn"
      }
    },
    {
      "cell_type": "code",
      "source": [
        "print (data.groupby ('Region').sum().head(50))\n",
        "print (data.groupby ('Region') ['Confirmed'].sum().sort_values(ascending=False).head(20))\n",
        "print (data.groupby ('Region') [['Confirmed', 'Recovered']].sum())"
      ],
      "metadata": {
        "colab": {
          "base_uri": "https://localhost:8080/"
        },
        "id": "YzuuvFrTSJlA",
        "outputId": "a7208c22-5a56-45a1-ecfe-806bf63bde02"
      },
      "execution_count": null,
      "outputs": [
        {
          "output_type": "stream",
          "name": "stdout",
          "text": [
            "                                                                       Date  \\\n",
            "Region                                                                        \n",
            "Afghanistan                                                       4/29/2020   \n",
            "Albania                                                           4/29/2020   \n",
            "Algeria                                                           4/29/2020   \n",
            "Andorra                                                           4/29/2020   \n",
            "Angola                                                            4/29/2020   \n",
            "Antigua and Barbuda                                               4/29/2020   \n",
            "Argentina                                                         4/29/2020   \n",
            "Armenia                                                           4/29/2020   \n",
            "Australia                 4/29/20204/29/20204/29/20204/29/20204/29/20204...   \n",
            "Austria                                                           4/29/2020   \n",
            "Azerbaijan                                                        4/29/2020   \n",
            "Bahamas                                                           4/29/2020   \n",
            "Bahrain                                                           4/29/2020   \n",
            "Bangladesh                                                        4/29/2020   \n",
            "Barbados                                                          4/29/2020   \n",
            "Belarus                                                           4/29/2020   \n",
            "Belgium                                                           4/29/2020   \n",
            "Belize                                                            4/29/2020   \n",
            "Benin                                                             4/29/2020   \n",
            "Bhutan                                                            4/29/2020   \n",
            "Bolivia                                                           4/29/2020   \n",
            "Bosnia and Herzegovina                                            4/29/2020   \n",
            "Botswana                                                          4/29/2020   \n",
            "Brazil                                                            4/29/2020   \n",
            "Brunei                                                            4/29/2020   \n",
            "Bulgaria                                                          4/29/2020   \n",
            "Burkina Faso                                                      4/29/2020   \n",
            "Burma                                                             4/29/2020   \n",
            "Burundi                                                           4/29/2020   \n",
            "Cabo Verde                                                        4/29/2020   \n",
            "Cambodia                                                          4/29/2020   \n",
            "Cameroon                                                          4/29/2020   \n",
            "Canada                    4/29/20204/29/20204/29/20204/29/20204/29/20204...   \n",
            "Central African Republic                                          4/29/2020   \n",
            "Chad                                                              4/29/2020   \n",
            "Chile                                                             4/29/2020   \n",
            "Colombia                                                          4/29/2020   \n",
            "Congo (Brazzaville)                                               4/29/2020   \n",
            "Congo (Kinshasa)                                                  4/29/2020   \n",
            "Costa Rica                                                        4/29/2020   \n",
            "Croatia                                                           4/29/2020   \n",
            "Cuba                                                              4/29/2020   \n",
            "Cyprus                                                            4/29/2020   \n",
            "Czech Republic                                                    4/29/2020   \n",
            "Denmark                                         4/29/20204/29/20204/29/2020   \n",
            "Diamond Princess                                                  4/29/2020   \n",
            "Djibouti                                                          4/29/2020   \n",
            "Dominica                                                          4/29/2020   \n",
            "Dominican Republic                                                4/29/2020   \n",
            "Ecuador                                                           4/29/2020   \n",
            "\n",
            "                                                                      State  \\\n",
            "Region                                                                        \n",
            "Afghanistan                                                               0   \n",
            "Albania                                                                   0   \n",
            "Algeria                                                                   0   \n",
            "Andorra                                                                   0   \n",
            "Angola                                                                    0   \n",
            "Antigua and Barbuda                                                       0   \n",
            "Argentina                                                                 0   \n",
            "Armenia                                                                   0   \n",
            "Australia                 Australian Capital TerritoryNew South WalesNor...   \n",
            "Austria                                                                   0   \n",
            "Azerbaijan                                                                0   \n",
            "Bahamas                                                                   0   \n",
            "Bahrain                                                                   0   \n",
            "Bangladesh                                                                0   \n",
            "Barbados                                                                  0   \n",
            "Belarus                                                                   0   \n",
            "Belgium                                                                   0   \n",
            "Belize                                                                    0   \n",
            "Benin                                                                     0   \n",
            "Bhutan                                                                    0   \n",
            "Bolivia                                                                   0   \n",
            "Bosnia and Herzegovina                                                    0   \n",
            "Botswana                                                                  0   \n",
            "Brazil                                                                    0   \n",
            "Brunei                                                                    0   \n",
            "Bulgaria                                                                  0   \n",
            "Burkina Faso                                                              0   \n",
            "Burma                                                                     0   \n",
            "Burundi                                                                   0   \n",
            "Cabo Verde                                                                0   \n",
            "Cambodia                                                                  0   \n",
            "Cameroon                                                                  0   \n",
            "Canada                    AlbertaBritish ColumbiaDiamond Princess cruise...   \n",
            "Central African Republic                                                  0   \n",
            "Chad                                                                      0   \n",
            "Chile                                                                     0   \n",
            "Colombia                                                                  0   \n",
            "Congo (Brazzaville)                                                       0   \n",
            "Congo (Kinshasa)                                                          0   \n",
            "Costa Rica                                                                0   \n",
            "Croatia                                                                   0   \n",
            "Cuba                                                                      0   \n",
            "Cyprus                                                                    0   \n",
            "Czech Republic                                                            0   \n",
            "Denmark                                              Faroe IslandsGreenland   \n",
            "Diamond Princess                                                          0   \n",
            "Djibouti                                                                  0   \n",
            "Dominica                                                                  0   \n",
            "Dominican Republic                                                        0   \n",
            "Ecuador                                                                   0   \n",
            "\n",
            "                          Confirmed  Deaths  Recovered  \n",
            "Region                                                  \n",
            "Afghanistan                    1939      60        252  \n",
            "Albania                         766      30        455  \n",
            "Algeria                        3848     444       1702  \n",
            "Andorra                         743      42        423  \n",
            "Angola                           27       2          7  \n",
            "Antigua and Barbuda              24       3         11  \n",
            "Argentina                      4285     214       1192  \n",
            "Armenia                        1932      30        900  \n",
            "Australia                      6752      91       5715  \n",
            "Austria                       15402     580      12779  \n",
            "Azerbaijan                     1766      23       1267  \n",
            "Bahamas                          80      11         23  \n",
            "Bahrain                        2921       8       1455  \n",
            "Bangladesh                     7103     163        150  \n",
            "Barbados                         80       7         39  \n",
            "Belarus                       13181      84       2072  \n",
            "Belgium                       47859    7501      11283  \n",
            "Belize                           18       2          9  \n",
            "Benin                            64       1         33  \n",
            "Bhutan                            7       0          5  \n",
            "Bolivia                        1110      59        117  \n",
            "Bosnia and Herzegovina         1677      65        710  \n",
            "Botswana                         23       1          5  \n",
            "Brazil                        79685    5513      34132  \n",
            "Brunei                          138       1        124  \n",
            "Bulgaria                       1447      64        243  \n",
            "Burkina Faso                    641      43        498  \n",
            "Burma                           150       6         27  \n",
            "Burundi                          11       1          4  \n",
            "Cabo Verde                      114       1          2  \n",
            "Cambodia                        122       0        119  \n",
            "Cameroon                       1832      61        934  \n",
            "Canada                        52865    3155      20327  \n",
            "Central African Republic         50       0         10  \n",
            "Chad                             52       2         19  \n",
            "Chile                         14885     216       8057  \n",
            "Colombia                       6207     278       1411  \n",
            "Congo (Brazzaville)             207       8         19  \n",
            "Congo (Kinshasa)                491      30         59  \n",
            "Costa Rica                      713       6        323  \n",
            "Croatia                        2062      67       1288  \n",
            "Cuba                           1467      58        617  \n",
            "Cyprus                          843      15        148  \n",
            "Czech Republic                 7579     227       3108  \n",
            "Denmark                        9206     443       6558  \n",
            "Diamond Princess                712      13        645  \n",
            "Djibouti                       1077       2        599  \n",
            "Dominica                         16       0         13  \n",
            "Dominican Republic             6652     293       1228  \n",
            "Ecuador                       24675     883       1557  \n",
            "Region\n",
            "US                1039909\n",
            "Spain              236899\n",
            "Italy              203591\n",
            "France             166543\n",
            "UK                 166441\n",
            "Germany            161539\n",
            "Turkey             117589\n",
            "Russia              99399\n",
            "Iran                93657\n",
            "Mainland China      82862\n",
            "Brazil              79685\n",
            "Canada              52865\n",
            "Belgium             47859\n",
            "Netherlands         38998\n",
            "Peru                33931\n",
            "India               33062\n",
            "Switzerland         29407\n",
            "Ecuador             24675\n",
            "Portugal            24505\n",
            "Saudi Arabia        21402\n",
            "Name: Confirmed, dtype: int64\n",
            "                    Confirmed  Recovered\n",
            "Region                                  \n",
            "Afghanistan              1939        252\n",
            "Albania                   766        455\n",
            "Algeria                  3848       1702\n",
            "Andorra                   743        423\n",
            "Angola                     27          7\n",
            "...                       ...        ...\n",
            "West Bank and Gaza        344         71\n",
            "Western Sahara              6          5\n",
            "Yemen                       6          1\n",
            "Zambia                     97         54\n",
            "Zimbabwe                   32          5\n",
            "\n",
            "[187 rows x 2 columns]\n"
          ]
        }
      ]
    },
    {
      "cell_type": "markdown",
      "source": [
        "2. Remove all cases where confirmed cases were less than 10"
      ],
      "metadata": {
        "id": "YQUUTPp6awKj"
      }
    },
    {
      "cell_type": "code",
      "source": [
        "print (data['Confirmed'] < 10)\n",
        "print (data[data['Confirmed'] < 10])\n",
        "print (data[~(data['Confirmed'] < 10)])"
      ],
      "metadata": {
        "colab": {
          "base_uri": "https://localhost:8080/"
        },
        "id": "QKWgqAufeyuA",
        "outputId": "bdbe536d-28bb-4c6f-9e60-5886488172be"
      },
      "execution_count": null,
      "outputs": [
        {
          "output_type": "stream",
          "name": "stdout",
          "text": [
            "0      False\n",
            "1      False\n",
            "2      False\n",
            "3      False\n",
            "4      False\n",
            "       ...  \n",
            "316    False\n",
            "317    False\n",
            "318    False\n",
            "319    False\n",
            "320    False\n",
            "Name: Confirmed, Length: 321, dtype: bool\n",
            "          Date                             State                 Region  \\\n",
            "18   4/29/2020                               NaN                 Bhutan   \n",
            "98   4/29/2020                               NaN             MS Zaandam   \n",
            "105  4/29/2020                               NaN             Mauritania   \n",
            "126  4/29/2020                               NaN       Papua New Guinea   \n",
            "140  4/29/2020                               NaN  Sao Tome and Principe   \n",
            "177  4/29/2020                               NaN         Western Sahara   \n",
            "178  4/29/2020                               NaN                  Yemen   \n",
            "184  4/29/2020                          Anguilla                     UK   \n",
            "192  4/29/2020  Bonaire, Sint Eustatius and Saba            Netherlands   \n",
            "194  4/29/2020            British Virgin Islands                     UK   \n",
            "203  4/29/2020      Diamond Princess cruise ship                 Canada   \n",
            "272  4/29/2020             Northwest Territories                 Canada   \n",
            "284  4/29/2020                         Recovered                 Canada   \n",
            "285  4/29/2020                         Recovered                     US   \n",
            "288  4/29/2020                  Saint Barthelemy                 France   \n",
            "289  4/29/2020         Saint Pierre and Miquelon                 France   \n",
            "305  4/29/2020                             Tibet         Mainland China   \n",
            "\n",
            "     Confirmed  Deaths  Recovered  \n",
            "18           7       0          5  \n",
            "98           9       2          0  \n",
            "105          8       1          6  \n",
            "126          8       0          0  \n",
            "140          8       0          4  \n",
            "177          6       0          5  \n",
            "178          6       0          1  \n",
            "184          3       0          3  \n",
            "192          5       0          0  \n",
            "194          6       1          3  \n",
            "203          0       1          0  \n",
            "272          5       0          0  \n",
            "284          0       0      20327  \n",
            "285          0       0     120720  \n",
            "288          6       0          6  \n",
            "289          1       0          0  \n",
            "305          1       0          1  \n",
            "          Date     State          Region  Confirmed  Deaths  Recovered\n",
            "0    4/29/2020       NaN     Afghanistan       1939      60        252\n",
            "1    4/29/2020       NaN         Albania        766      30        455\n",
            "2    4/29/2020       NaN         Algeria       3848     444       1702\n",
            "3    4/29/2020       NaN         Andorra        743      42        423\n",
            "4    4/29/2020       NaN          Angola         27       2          7\n",
            "..         ...       ...             ...        ...     ...        ...\n",
            "316  4/29/2020   Wyoming              US        545       7          0\n",
            "317  4/29/2020  Xinjiang  Mainland China         76       3         73\n",
            "318  4/29/2020     Yukon          Canada         11       0          0\n",
            "319  4/29/2020    Yunnan  Mainland China        185       2        181\n",
            "320  4/29/2020  Zhejiang  Mainland China       1268       1       1263\n",
            "\n",
            "[304 rows x 6 columns]\n"
          ]
        }
      ]
    },
    {
      "cell_type": "markdown",
      "source": [
        "3. In which region, maximum number of confirmed cases were recorded?"
      ],
      "metadata": {
        "id": "xNgfVGq9cbG1"
      }
    },
    {
      "cell_type": "code",
      "source": [
        "print (data.groupby ('Region') ['Confirmed'].sum().sort_values(ascending=False).head(20))"
      ],
      "metadata": {
        "colab": {
          "base_uri": "https://localhost:8080/"
        },
        "id": "wnuGFbfecjiX",
        "outputId": "c75af529-2bef-4e97-ec77-5bbdd9c8e60a"
      },
      "execution_count": null,
      "outputs": [
        {
          "output_type": "stream",
          "name": "stdout",
          "text": [
            "Region\n",
            "US                1039909\n",
            "Spain              236899\n",
            "Italy              203591\n",
            "France             166543\n",
            "UK                 166441\n",
            "Germany            161539\n",
            "Turkey             117589\n",
            "Russia              99399\n",
            "Iran                93657\n",
            "Mainland China      82862\n",
            "Brazil              79685\n",
            "Canada              52865\n",
            "Belgium             47859\n",
            "Netherlands         38998\n",
            "Peru                33931\n",
            "India               33062\n",
            "Switzerland         29407\n",
            "Ecuador             24675\n",
            "Portugal            24505\n",
            "Saudi Arabia        21402\n",
            "Name: Confirmed, dtype: int64\n"
          ]
        }
      ]
    },
    {
      "cell_type": "markdown",
      "source": [
        "4. In which region, minimum number of death cases were recoreded?"
      ],
      "metadata": {
        "id": "DDp-G3pzgMwC"
      }
    },
    {
      "cell_type": "code",
      "source": [
        "print (data.groupby ('Region')['Deaths'].sum().sort_values(ascending = True).head(50))"
      ],
      "metadata": {
        "colab": {
          "base_uri": "https://localhost:8080/"
        },
        "id": "SfoUP8xAgSI5",
        "outputId": "bfa61d8d-056e-466e-dffb-62663c8b514d"
      },
      "execution_count": null,
      "outputs": [
        {
          "output_type": "stream",
          "name": "stdout",
          "text": [
            "Region\n",
            "Cambodia                            0\n",
            "Bhutan                              0\n",
            "Dominica                            0\n",
            "Central African Republic            0\n",
            "Eritrea                             0\n",
            "Fiji                                0\n",
            "Holy See                            0\n",
            "Mozambique                          0\n",
            "Macau                               0\n",
            "Madagascar                          0\n",
            "Namibia                             0\n",
            "Mongolia                            0\n",
            "Nepal                               0\n",
            "Laos                                0\n",
            "Grenada                             0\n",
            "Papua New Guinea                    0\n",
            "Sao Tome and Principe               0\n",
            "Seychelles                          0\n",
            "South Sudan                         0\n",
            "Uganda                              0\n",
            "Yemen                               0\n",
            "Timor-Leste                         0\n",
            "Vietnam                             0\n",
            "Western Sahara                      0\n",
            "Saint Vincent and the Grenadines    0\n",
            "Saint Lucia                         0\n",
            "Saint Kitts and Nevis               0\n",
            "Rwanda                              0\n",
            "Burundi                             1\n",
            "Gambia                              1\n",
            "Eswatini                            1\n",
            "Benin                               1\n",
            "Cabo Verde                          1\n",
            "Botswana                            1\n",
            "Suriname                            1\n",
            "Mauritania                          1\n",
            "Guinea-Bissau                       1\n",
            "Maldives                            1\n",
            "Liechtenstein                       1\n",
            "Brunei                              1\n",
            "Equatorial Guinea                   1\n",
            "West Bank and Gaza                  2\n",
            "MS Zaandam                          2\n",
            "Libya                               2\n",
            "Djibouti                            2\n",
            "Chad                                2\n",
            "Belize                              2\n",
            "Angola                              2\n",
            "Syria                               3\n",
            "Nicaragua                           3\n",
            "Name: Deaths, dtype: int64\n"
          ]
        }
      ]
    },
    {
      "cell_type": "markdown",
      "source": [
        "5. How many Confirmed, Death, and Recovered cases were reported from India till 29th April 2020?"
      ],
      "metadata": {
        "id": "_BOrb9U4gtO8"
      }
    },
    {
      "cell_type": "code",
      "source": [
        "print (data[data.Region == 'India'])"
      ],
      "metadata": {
        "colab": {
          "base_uri": "https://localhost:8080/"
        },
        "id": "YaFwfmU8g72M",
        "outputId": "c524c7ff-74e0-460b-b819-53fd97529554"
      },
      "execution_count": null,
      "outputs": [
        {
          "output_type": "stream",
          "name": "stdout",
          "text": [
            "         Date State Region  Confirmed  Deaths  Recovered\n",
            "74  4/29/2020   NaN  India      33062    1079       8437\n"
          ]
        }
      ]
    },
    {
      "cell_type": "markdown",
      "source": [
        "6a. Sort the entire data wrt to no. of confirmed cases in asceding order"
      ],
      "metadata": {
        "id": "98kebttyhqDx"
      }
    },
    {
      "cell_type": "code",
      "source": [
        "print (data.sort_values(by=['Confirmed'], ascending=True).head(50))"
      ],
      "metadata": {
        "colab": {
          "base_uri": "https://localhost:8080/"
        },
        "id": "xtr7nOm0h_99",
        "outputId": "b16cad18-549f-4d75-8509-5a4f3d86560a"
      },
      "execution_count": null,
      "outputs": [
        {
          "output_type": "stream",
          "name": "stdout",
          "text": [
            "          Date                             State  \\\n",
            "284  4/29/2020                         Recovered   \n",
            "285  4/29/2020                         Recovered   \n",
            "203  4/29/2020      Diamond Princess cruise ship   \n",
            "289  4/29/2020         Saint Pierre and Miquelon   \n",
            "305  4/29/2020                             Tibet   \n",
            "184  4/29/2020                          Anguilla   \n",
            "192  4/29/2020  Bonaire, Sint Eustatius and Saba   \n",
            "272  4/29/2020             Northwest Territories   \n",
            "288  4/29/2020                  Saint Barthelemy   \n",
            "178  4/29/2020                               NaN   \n",
            "194  4/29/2020            British Virgin Islands   \n",
            "177  4/29/2020                               NaN   \n",
            "18   4/29/2020                               NaN   \n",
            "105  4/29/2020                               NaN   \n",
            "140  4/29/2020                               NaN   \n",
            "126  4/29/2020                               NaN   \n",
            "98   4/29/2020                               NaN   \n",
            "156  4/29/2020                               NaN   \n",
            "70   4/29/2020                               NaN   \n",
            "59   4/29/2020                               NaN   \n",
            "144  4/29/2020                               NaN   \n",
            "217  4/29/2020                         Greenland   \n",
            "318  4/29/2020                             Yukon   \n",
            "256  4/29/2020                        Montserrat   \n",
            "27   4/29/2020                               NaN   \n",
            "306  4/29/2020          Turks and Caicos Islands   \n",
            "215  4/29/2020                    Grand Princess   \n",
            "206  4/29/2020       Falkland Islands (Malvinas)   \n",
            "118  4/29/2020                               NaN   \n",
            "270  4/29/2020          Northern Mariana Islands   \n",
            "136  4/29/2020                               NaN   \n",
            "114  4/29/2020                               NaN   \n",
            "201  4/29/2020                           Curacao   \n",
            "45   4/29/2020                               NaN   \n",
            "138  4/29/2020                               NaN   \n",
            "137  4/29/2020                               NaN   \n",
            "281  4/29/2020                           Qinghai   \n",
            "260  4/29/2020                     New Caledonia   \n",
            "55   4/29/2020                               NaN   \n",
            "16   4/29/2020                               NaN   \n",
            "90   4/29/2020                               NaN   \n",
            "64   4/29/2020                               NaN   \n",
            "21   4/29/2020                               NaN   \n",
            "5    4/29/2020                               NaN   \n",
            "163  4/29/2020                               NaN   \n",
            "4    4/29/2020                               NaN   \n",
            "279  4/29/2020              Prince Edward Island   \n",
            "271  4/29/2020                Northern Territory   \n",
            "180  4/29/2020                               NaN   \n",
            "152  4/29/2020                               NaN   \n",
            "\n",
            "                               Region  Confirmed  Deaths  Recovered  \n",
            "284                            Canada          0       0      20327  \n",
            "285                                US          0       0     120720  \n",
            "203                            Canada          0       1          0  \n",
            "289                            France          1       0          0  \n",
            "305                    Mainland China          1       0          1  \n",
            "184                                UK          3       0          3  \n",
            "192                       Netherlands          5       0          0  \n",
            "272                            Canada          5       0          0  \n",
            "288                            France          6       0          6  \n",
            "178                             Yemen          6       0          1  \n",
            "194                                UK          6       1          3  \n",
            "177                    Western Sahara          6       0          5  \n",
            "18                             Bhutan          7       0          5  \n",
            "105                        Mauritania          8       1          6  \n",
            "140             Sao Tome and Principe          8       0          4  \n",
            "126                  Papua New Guinea          8       0          0  \n",
            "98                         MS Zaandam          9       2          0  \n",
            "156                          Suriname         10       1          8  \n",
            "70                           Holy See         10       0          2  \n",
            "59                             Gambia         10       1          8  \n",
            "144                        Seychelles         11       0          6  \n",
            "217                           Denmark         11       0         11  \n",
            "318                            Canada         11       0          0  \n",
            "256                                UK         11       1          2  \n",
            "27                            Burundi         11       1          4  \n",
            "306                                UK         12       1          5  \n",
            "215                            Canada         13       0          0  \n",
            "206                                UK         13       0         11  \n",
            "118                         Nicaragua         13       3          7  \n",
            "270                                US         14       2          0  \n",
            "136             Saint Kitts and Nevis         15       0          4  \n",
            "114                           Namibia         16       0          8  \n",
            "201                       Netherlands         16       1         13  \n",
            "45                           Dominica         16       0         13  \n",
            "138  Saint Vincent and the Grenadines         16       0          8  \n",
            "137                       Saint Lucia         17       0         15  \n",
            "281                    Mainland China         18       0         18  \n",
            "260                            France         18       0         17  \n",
            "55                               Fiji         18       0         12  \n",
            "16                             Belize         18       2          9  \n",
            "90                               Laos         19       0          7  \n",
            "64                            Grenada         20       0         13  \n",
            "21                           Botswana         23       1          5  \n",
            "5                 Antigua and Barbuda         24       3         11  \n",
            "163                       Timor-Leste         24       0          6  \n",
            "4                              Angola         27       2          7  \n",
            "279                            Canada         27       0          0  \n",
            "271                         Australia         28       0         25  \n",
            "180                          Zimbabwe         32       4          5  \n",
            "152                       South Sudan         34       0          0  \n"
          ]
        }
      ]
    },
    {
      "cell_type": "markdown",
      "source": [
        "6b. Sort the entire data wrt no. of Recovered cases in descending order"
      ],
      "metadata": {
        "id": "tXAb7hQ3iZb2"
      }
    },
    {
      "cell_type": "code",
      "source": [
        "print (data.sort_values(by=['Recovered'], ascending=False))"
      ],
      "metadata": {
        "colab": {
          "base_uri": "https://localhost:8080/"
        },
        "id": "vyS6FpUtijuy",
        "outputId": "13f06abb-81cd-4ba1-aff3-66cb0c44822d"
      },
      "execution_count": null,
      "outputs": [
        {
          "output_type": "stream",
          "name": "stdout",
          "text": [
            "          Date           State   Region  Confirmed  Deaths  Recovered\n",
            "153  4/29/2020             NaN    Spain     236899   24275     132929\n",
            "285  4/29/2020       Recovered       US          0       0     120720\n",
            "61   4/29/2020             NaN  Germany     161539    6467     120400\n",
            "76   4/29/2020             NaN     Iran      93657    5957      73791\n",
            "80   4/29/2020             NaN    Italy     203591   27682      71252\n",
            "..         ...             ...      ...        ...     ...        ...\n",
            "290  4/29/2020    Saskatchewan   Canada        383       6          0\n",
            "299  4/29/2020    South Dakota       US       2373      13          0\n",
            "298  4/29/2020  South Carolina       US       5882     231          0\n",
            "302  4/29/2020       Tennessee       US      10366     195          0\n",
            "303  4/29/2020           Texas       US      27257     754          0\n",
            "\n",
            "[321 rows x 6 columns]\n"
          ]
        }
      ]
    }
  ]
}